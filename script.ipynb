{
 "metadata": {
  "language_info": {
   "codemirror_mode": {
    "name": "ipython",
    "version": 3
   },
   "file_extension": ".py",
   "mimetype": "text/x-python",
   "name": "python",
   "nbconvert_exporter": "python",
   "pygments_lexer": "ipython3",
   "version": "3.8.5-final"
  },
  "orig_nbformat": 2,
  "kernelspec": {
   "name": "python38564bitpandaspipenv76bc943cb9e64d918541a242958fb063",
   "display_name": "Python 3.8.5 64-bit ('pandas': pipenv)"
  }
 },
 "nbformat": 4,
 "nbformat_minor": 2,
 "cells": [
  {
   "cell_type": "code",
   "execution_count": 1,
   "metadata": {},
   "outputs": [],
   "source": [
    "import pandas as pd\n",
    "import xlrd\n",
    "from shutil import copy\n",
    "import os"
   ]
  },
  {
   "cell_type": "code",
   "execution_count": 2,
   "metadata": {
    "tags": []
   },
   "outputs": [
    {
     "output_type": "stream",
     "name": "stdout",
     "text": "/Users/jose/workspace/pandas\n"
    }
   ],
   "source": [
    "current_path = os.getcwd()\n",
    "print(current_path)"
   ]
  },
  {
   "cell_type": "code",
   "execution_count": 3,
   "metadata": {
    "tags": []
   },
   "outputs": [
    {
     "output_type": "stream",
     "name": "stdout",
     "text": "Successfully created the directory malware \n"
    }
   ],
   "source": [
    "malware_path='malware'\n",
    "try:\n",
    "    os.mkdir(malware_path)\n",
    "except OSError:\n",
    "    print (\"Creation of the directory %s failed\" % malware_path)\n",
    "else:\n",
    "    print (\"Successfully created the directory %s \" % malware_path)"
   ]
  },
  {
   "cell_type": "code",
   "execution_count": 4,
   "metadata": {
    "tags": []
   },
   "outputs": [
    {
     "output_type": "stream",
     "name": "stdout",
     "text": "Successfully created the directory normal \n"
    }
   ],
   "source": [
    "normal_path='normal'\n",
    "try:\n",
    "    os.mkdir(normal_path)\n",
    "except OSError:\n",
    "    print (\"Creation of the directory %s failed\" % normal_path)\n",
    "else:\n",
    "    print (\"Successfully created the directory %s \" % normal_path)"
   ]
  },
  {
   "cell_type": "code",
   "execution_count": 5,
   "metadata": {
    "tags": []
   },
   "outputs": [
    {
     "output_type": "stream",
     "name": "stdout",
     "text": "Successfully created the directory data \n"
    }
   ],
   "source": [
    "data_path='data'\n",
    "try:\n",
    "    os.mkdir(data_path)\n",
    "except OSError:\n",
    "    print (\"Creation of the directory %s failed\" % data_path)\n",
    "else:\n",
    "    print (\"Successfully created the directory %s \" % data_path)"
   ]
  },
  {
   "cell_type": "code",
   "execution_count": 6,
   "metadata": {
    "tags": []
   },
   "outputs": [],
   "source": [
    "data=pd.read_excel(os.path.join(current_path,'data.xlsx'), header=None)"
   ]
  },
  {
   "cell_type": "code",
   "execution_count": 7,
   "metadata": {
    "tags": []
   },
   "outputs": [],
   "source": [
    "for i, row in data.iterrows():\n",
    "    f=open(os.path.join(current_path, data_path, './{}'.format(row[0])),\"w+\")\n",
    "    f.write(row[0])\n",
    "    f.close()"
   ]
  },
  {
   "cell_type": "code",
   "execution_count": 9,
   "metadata": {},
   "outputs": [],
   "source": [
    "for i, row in data.iterrows():\n",
    "    file_path=os.path.join(data_path,row[0])\n",
    "    if row[1]==1:\n",
    "        copy(file_path, malware_path)\n",
    "    elif row[1]==0:\n",
    "        copy(file_path, normal_path)\n"
   ]
  }
 ]
}